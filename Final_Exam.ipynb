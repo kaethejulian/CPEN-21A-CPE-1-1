{
  "nbformat": 4,
  "nbformat_minor": 0,
  "metadata": {
    "colab": {
      "name": "Final Exam.ipynb",
      "provenance": [],
      "authorship_tag": "ABX9TyPmx9UVsxc3FHN2wwYMnfF+",
      "include_colab_link": true
    },
    "kernelspec": {
      "name": "python3",
      "display_name": "Python 3"
    },
    "language_info": {
      "name": "python"
    }
  },
  "cells": [
    {
      "cell_type": "markdown",
      "metadata": {
        "id": "view-in-github",
        "colab_type": "text"
      },
      "source": [
        "<a href=\"https://colab.research.google.com/github/kaethejulian/CPEN-21A-CPE-1-1/blob/main/Final_Exam.ipynb\" target=\"_parent\"><img src=\"https://colab.research.google.com/assets/colab-badge.svg\" alt=\"Open In Colab\"/></a>"
      ]
    },
    {
      "cell_type": "markdown",
      "source": [
        "##Ma. Kaethe Joy A. Julian\n",
        "###BS CPE 1-1"
      ],
      "metadata": {
        "id": "C26ERDVs4l48"
      }
    },
    {
      "cell_type": "markdown",
      "source": [
        "#Final Exam"
      ],
      "metadata": {
        "id": "5V9SQxCtCyaF"
      }
    },
    {
      "cell_type": "markdown",
      "source": [
        "###Problem Statement 1"
      ],
      "metadata": {
        "id": "py5hHSqHfgTf"
      }
    },
    {
      "cell_type": "code",
      "execution_count": 174,
      "metadata": {
        "colab": {
          "base_uri": "https://localhost:8080/"
        },
        "id": "ouZsCzXOCshc",
        "outputId": "1ab872fb-34d2-4d83-b34b-b11f9ab2939f"
      },
      "outputs": [
        {
          "output_type": "stream",
          "name": "stdout",
          "text": [
            "The sum of 10 numbers less than 5 is -11\n"
          ]
        }
      ],
      "source": [
        "sum = 0\n",
        "number = [-6,-4,-8,-2,-1,0,1,2,3,4,]\n",
        "for x in number:\n",
        "  sum = sum + x\n",
        "print (\"The sum of 10 numbers less than 5 is\",sum)"
      ]
    },
    {
      "cell_type": "markdown",
      "source": [
        "###Problem Statement 2"
      ],
      "metadata": {
        "id": "V8BCO7vsfa7H"
      }
    },
    {
      "cell_type": "code",
      "source": [
        "number = int(input(\"1st number: \"))\n",
        "while (number!=0):\n",
        "  a = int(input(\"2nd number: \"))\n",
        "  b = int(input(\"3rd number: \"))\n",
        "  c = int(input(\"4th number: \"))\n",
        "  d = int(input(\"5th number: \"))\n",
        "  e = 0\n",
        "  f = d\n",
        "  e = number + f\n",
        "  print (e)\n",
        "  number -= 1\n",
        "  break"
      ],
      "metadata": {
        "colab": {
          "base_uri": "https://localhost:8080/"
        },
        "id": "g3Q7tMYsx8Lc",
        "outputId": "e08d0f19-3984-4c74-83c6-aab8859f0e49"
      },
      "execution_count": 168,
      "outputs": [
        {
          "output_type": "stream",
          "name": "stdout",
          "text": [
            "1st number: 2050\n",
            "2nd number: 24\n",
            "3rd number: 3\n",
            "4th number: 2\n",
            "5th number: 3000\n",
            "5050\n"
          ]
        }
      ]
    },
    {
      "cell_type": "markdown",
      "source": [
        "###Problem Statement 3"
      ],
      "metadata": {
        "id": "FKL-V90dG0GA"
      }
    },
    {
      "cell_type": "code",
      "source": [
        "grade = int(input(\"Enter your grade: \"))\n",
        "if grade >=90:\n",
        "  print (\"A\")\n",
        "else:\n",
        "  if grade <89 and grade >=80:\n",
        "    print (\"B\")\n",
        "  else:\n",
        "    if grade <=79 and grade >=70:\n",
        "      print (\"C\")\n",
        "    else:\n",
        "      if grade <=69 and grade >=60:\n",
        "        print (\"D\")\n",
        "      else: \n",
        "        print (\"F\")"
      ],
      "metadata": {
        "colab": {
          "base_uri": "https://localhost:8080/"
        },
        "id": "BAT6aeBFdkWp",
        "outputId": "f9df6421-a9c6-4fb7-ad81-f4afef5d11e7"
      },
      "execution_count": 148,
      "outputs": [
        {
          "output_type": "stream",
          "name": "stdout",
          "text": [
            "Enter your grade: 25\n",
            "F\n"
          ]
        }
      ]
    }
  ]
}