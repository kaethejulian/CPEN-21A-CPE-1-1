{
  "nbformat": 4,
  "nbformat_minor": 0,
  "metadata": {
    "colab": {
      "name": "Expressions and Operations.ipynb",
      "provenance": [],
      "authorship_tag": "ABX9TyNcuuZYiz+R+PAuDdBFFwCP",
      "include_colab_link": true
    },
    "kernelspec": {
      "name": "python3",
      "display_name": "Python 3"
    },
    "language_info": {
      "name": "python"
    }
  },
  "cells": [
    {
      "cell_type": "markdown",
      "metadata": {
        "id": "view-in-github",
        "colab_type": "text"
      },
      "source": [
        "<a href=\"https://colab.research.google.com/github/kaethejulian/CPEN-21A-CPE-1-1/blob/main/Expressions_and_Operations.ipynb\" target=\"_parent\"><img src=\"https://colab.research.google.com/assets/colab-badge.svg\" alt=\"Open In Colab\"/></a>"
      ]
    },
    {
      "cell_type": "markdown",
      "metadata": {
        "id": "9ayln1q-fQ6g"
      },
      "source": [
        "##Boolean Operators\n",
        "###Booleans represent one of two values :True or False"
      ]
    },
    {
      "cell_type": "code",
      "metadata": {
        "colab": {
          "base_uri": "https://localhost:8080/"
        },
        "id": "O5K8fBIjdMb7",
        "outputId": "a7bdf129-4011-4f8f-8bc7-5584f894cb91"
      },
      "source": [
        "print(10 > 9)\n",
        "print(10 == 9) \n",
        "print(10 < 9)\n",
        "print(10!=9)"
      ],
      "execution_count": 3,
      "outputs": [
        {
          "output_type": "stream",
          "name": "stdout",
          "text": [
            "True\n",
            "False\n",
            "False\n",
            "True\n"
          ]
        }
      ]
    },
    {
      "cell_type": "code",
      "metadata": {
        "colab": {
          "base_uri": "https://localhost:8080/"
        },
        "id": "9FoftITDg5js",
        "outputId": "6d5de151-1aa4-4974-823a-0b47ad469ec9"
      },
      "source": [
        "print(bool(True))\n",
        "print(bool(False))\n",
        "print(bool(1))\n",
        "print(bool(0))\n",
        "print(bool({}))"
      ],
      "execution_count": 11,
      "outputs": [
        {
          "output_type": "stream",
          "name": "stdout",
          "text": [
            "True\n",
            "False\n",
            "True\n",
            "False\n",
            "False\n"
          ]
        }
      ]
    },
    {
      "cell_type": "code",
      "metadata": {
        "colab": {
          "base_uri": "https://localhost:8080/"
        },
        "id": "q3r1dMfrhOq6",
        "outputId": "430f6bb0-5453-4c28-ec41-55598b3d04b6"
      },
      "source": [
        "def myFunction():return True\n",
        "\n",
        "if myFunction():\n",
        "  print('Yes!')\n",
        "else:\n",
        "    print(\"No!\")"
      ],
      "execution_count": 25,
      "outputs": [
        {
          "output_type": "stream",
          "name": "stdout",
          "text": [
            "Yes!\n"
          ]
        }
      ]
    },
    {
      "cell_type": "code",
      "metadata": {
        "colab": {
          "base_uri": "https://localhost:8080/"
        },
        "id": "LqAUxLkxioiM",
        "outputId": "a5dd5245-f3a9-4584-9036-c0586e80696e"
      },
      "source": [
        "\n",
        "a=6\n",
        "b=7\n",
        "print(a<b)\n",
        "print(a>b)\n",
        "print(a==b)\n",
        "print(a!=b)"
      ],
      "execution_count": 28,
      "outputs": [
        {
          "output_type": "stream",
          "name": "stdout",
          "text": [
            "True\n",
            "False\n",
            "False\n",
            "True\n"
          ]
        }
      ]
    },
    {
      "cell_type": "markdown",
      "metadata": {
        "id": "X0yBuetvjKyC"
      },
      "source": [
        "###Phyton Operators"
      ]
    },
    {
      "cell_type": "code",
      "metadata": {
        "colab": {
          "base_uri": "https://localhost:8080/"
        },
        "id": "pGQzjD3JjImP",
        "outputId": "1a6eb1a6-4dca-45c8-a10f-506fb8d89fe2"
      },
      "source": [
        "print(10+5)\n",
        "print(10-5)\n",
        "print(10*5)\n",
        "print(10/5)\n",
        "print(10//5)   #floor division get the whole number\n",
        "print(10//3)\n",
        "print(10/3)     #quotient\n",
        "print(10%3)     #modulo get the remainder\n",
        "print(10**2)    # 10^2 #concatenation"
      ],
      "execution_count": 35,
      "outputs": [
        {
          "output_type": "stream",
          "name": "stdout",
          "text": [
            "15\n",
            "5\n",
            "50\n",
            "2.0\n",
            "2\n",
            "3\n",
            "3.3333333333333335\n",
            "1\n",
            "100\n"
          ]
        }
      ]
    },
    {
      "cell_type": "code",
      "metadata": {
        "colab": {
          "base_uri": "https://localhost:8080/"
        },
        "id": "iGGipa66mxJA",
        "outputId": "b1ea00d8-5860-40c3-cec8-70bf70a9da8c"
      },
      "source": [
        "a=60  #0011 1100 , 0111 1000  1111 0000 \n",
        "b=13\n",
        "print(a&b)\n",
        "print(a|b)\n",
        "print(a<<1)\n",
        "print(a<<2)\n",
        "print(a>>1) #0011 1100 , 0001 1110\n",
        "\n"
      ],
      "execution_count": 42,
      "outputs": [
        {
          "output_type": "stream",
          "name": "stdout",
          "text": [
            "12\n",
            "61\n",
            "120\n",
            "240\n",
            "30\n"
          ]
        }
      ]
    },
    {
      "cell_type": "code",
      "metadata": {
        "colab": {
          "base_uri": "https://localhost:8080/"
        },
        "id": "3Lki-EFLpi7y",
        "outputId": "567bcbca-f3a5-4d58-9939-fc456b781bf8"
      },
      "source": [
        "a+=2 #same as a= a+2. a= 60 +2 a= 62\n",
        "print(a)"
      ],
      "execution_count": 58,
      "outputs": [
        {
          "output_type": "stream",
          "name": "stdout",
          "text": [
            "9\n"
          ]
        }
      ]
    },
    {
      "cell_type": "markdown",
      "metadata": {
        "id": "4uKUmy6gp95Q"
      },
      "source": [
        "#Logical Operators"
      ]
    },
    {
      "cell_type": "code",
      "metadata": {
        "colab": {
          "base_uri": "https://localhost:8080/"
        },
        "id": "j8oyOlRdqChj",
        "outputId": "5f0b0d94-d663-4be2-f402-a74b00ddaa88"
      },
      "source": [
        "a=True\n",
        "b= False\n",
        "\n",
        "print(a and b)\n",
        "print(a or b)\n"
      ],
      "execution_count": 54,
      "outputs": [
        {
          "output_type": "stream",
          "name": "stdout",
          "text": [
            "False\n",
            "True\n"
          ]
        }
      ]
    },
    {
      "cell_type": "code",
      "metadata": {
        "colab": {
          "base_uri": "https://localhost:8080/"
        },
        "id": "_n5IWLnlrbq6",
        "outputId": "3153c7f0-9fef-4cf4-d6df-c7af2200814e"
      },
      "source": [
        "a=60\n",
        "b=13\n",
        "(a>b) and (a<b)  #if one value is false, the truth value is already false\n",
        "(a>b) or (a<b)\n",
        "not(a>b) #negation (kabaligtaran)"
      ],
      "execution_count": 61,
      "outputs": [
        {
          "output_type": "execute_result",
          "data": {
            "text/plain": [
              "False"
            ]
          },
          "metadata": {},
          "execution_count": 61
        }
      ]
    },
    {
      "cell_type": "markdown",
      "metadata": {
        "id": "12KawAA1sD9o"
      },
      "source": [
        "#Identity Operators"
      ]
    },
    {
      "cell_type": "code",
      "metadata": {
        "colab": {
          "base_uri": "https://localhost:8080/"
        },
        "id": "PjrEVlf1sHhL",
        "outputId": "5f5608fc-2e3f-43a0-9a1b-f21839ae4965"
      },
      "source": [
        "print(a is b)\n",
        "print(a is not b)"
      ],
      "execution_count": 64,
      "outputs": [
        {
          "output_type": "stream",
          "name": "stdout",
          "text": [
            "False\n",
            "True\n"
          ]
        }
      ]
    }
  ]
}