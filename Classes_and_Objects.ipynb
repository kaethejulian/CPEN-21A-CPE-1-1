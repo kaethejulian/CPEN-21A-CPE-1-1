{
  "nbformat": 4,
  "nbformat_minor": 0,
  "metadata": {
    "colab": {
      "name": "Classes and Objects.ipynb",
      "provenance": [],
      "authorship_tag": "ABX9TyPirlul3Xvr2+UbEkvDR3RD",
      "include_colab_link": true
    },
    "kernelspec": {
      "name": "python3",
      "display_name": "Python 3"
    },
    "language_info": {
      "name": "python"
    }
  },
  "cells": [
    {
      "cell_type": "markdown",
      "metadata": {
        "id": "view-in-github",
        "colab_type": "text"
      },
      "source": [
        "<a href=\"https://colab.research.google.com/github/kaethejulian/CPEN-21A-CPE-1-1/blob/main/Classes_and_Objects.ipynb\" target=\"_parent\"><img src=\"https://colab.research.google.com/assets/colab-badge.svg\" alt=\"Open In Colab\"/></a>"
      ]
    },
    {
      "cell_type": "markdown",
      "source": [
        "Application 2 - Write a phyton program that displays the full name of a student, student number, age,course,school. Create a class name (OOP_1_1) and create info method to display the information of student with full name, student_no, age, course, school as attributes. "
      ],
      "metadata": {
        "id": "hV9HXNxg0kjN"
      }
    },
    {
      "cell_type": "code",
      "execution_count": 15,
      "metadata": {
        "colab": {
          "base_uri": "https://localhost:8080/"
        },
        "id": "hPehzk2O0Str",
        "outputId": "39e951fa-4bd5-412d-ace0-edb9b6ee95b8"
      },
      "outputs": [
        {
          "output_type": "stream",
          "name": "stdout",
          "text": [
            "My name is Ma.Kaethe Joy A. Julian\n",
            "My student number is 202101036\n",
            "I am 19 years old.\n",
            "My course is BSCpE\n",
            "My school is CvSU\n"
          ]
        }
      ],
      "source": [
        "class OOP_1_1:\n",
        "  def __init__(self,fullname,student_no,age, course,school):\n",
        "    self.fullname=fullname\n",
        "    self.student_no=student_no\n",
        "    self.age=age\n",
        "    self.course=course\n",
        "    self.school=school\n",
        "\n",
        "  def info(self):\n",
        "    print(self.fullname,self.student_no,self.age,self.course,self.school)\n",
        "\n",
        "  def info(self):\n",
        "    print(\"My name is\", self.fullname)\n",
        "    print(\"My student number is\", self.student_no)\n",
        "    print(\"I am\", self.age,\"years old.\")\n",
        "    print(\"My course is\", self.course)\n",
        "    print(\"My school is\",self.school)\n",
        "\n",
        "student = OOP_1_1(\"Ma.Kaethe Joy A. Julian\",\"202101036\",\"19\",\"BSCpE\",\"CvSU\")\n",
        "student.info()\n",
        "\n"
      ]
    },
    {
      "cell_type": "markdown",
      "source": [
        "Application 3- Define an area() method of the class Circle that calculates the circle's area. Define a Perimeter() method of the class which allows you to calculate the perimeter of the circle"
      ],
      "metadata": {
        "id": "Ev-t2RUV6ELR"
      }
    },
    {
      "cell_type": "code",
      "source": [
        "class Circle:\n",
        "  pi=3.14\n",
        "  def __init__(self,pi,radius):\n",
        "    self.pi=pi\n",
        "    self.radius=radius\n",
        "\n",
        "  def Area(self):\n",
        "    print(self.pi*self.radius**2)\n",
        "\n",
        "  def Perimeter(self):\n",
        "    print(2*self.pi*self.radius)\n",
        "  \n",
        "Area = Circle(3.14,25)\n",
        "Area.Area()\n",
        "Area.Perimeter()\n",
        "\n"
      ],
      "metadata": {
        "colab": {
          "base_uri": "https://localhost:8080/"
        },
        "id": "61Fd8oBQ6kAs",
        "outputId": "5265bffa-c794-4653-880b-7395d1766730"
      },
      "execution_count": 37,
      "outputs": [
        {
          "output_type": "stream",
          "name": "stdout",
          "text": [
            "1962.5\n",
            "157.0\n"
          ]
        }
      ]
    }
  ]
}