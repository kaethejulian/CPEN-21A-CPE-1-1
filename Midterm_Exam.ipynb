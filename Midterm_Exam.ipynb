{
  "nbformat": 4,
  "nbformat_minor": 0,
  "metadata": {
    "colab": {
      "name": "Midterm Exam",
      "provenance": [],
      "authorship_tag": "ABX9TyMiwDL4AWpEQgBiXceTd5Tt",
      "include_colab_link": true
    },
    "kernelspec": {
      "name": "python3",
      "display_name": "Python 3"
    },
    "language_info": {
      "name": "python"
    }
  },
  "cells": [
    {
      "cell_type": "markdown",
      "metadata": {
        "id": "view-in-github",
        "colab_type": "text"
      },
      "source": [
        "<a href=\"https://colab.research.google.com/github/kaethejulian/CPEN-21A-CPE-1-1/blob/main/Midterm_Exam.ipynb\" target=\"_parent\"><img src=\"https://colab.research.google.com/assets/colab-badge.svg\" alt=\"Open In Colab\"/></a>"
      ]
    },
    {
      "cell_type": "markdown",
      "metadata": {
        "id": "hfW5NbF4hRls"
      },
      "source": [
        "#MIDTERM EXAM"
      ]
    },
    {
      "cell_type": "markdown",
      "metadata": {
        "id": "eu3rQniQlPN_"
      },
      "source": [
        "###PROBLEM STATEMENT 1"
      ]
    },
    {
      "cell_type": "code",
      "metadata": {
        "colab": {
          "base_uri": "https://localhost:8080/"
        },
        "id": "37zY__xefA5V",
        "outputId": "583d7cbe-42e5-476c-b88d-9e4385b0d303"
      },
      "source": [
        "Name=\"Ma. Kaethe Joy A. Julian\"\n",
        "Student_Number=\"202101036\"\n",
        "Age=\"18 years old\"\n",
        "Birthday=\"December 04, 2002\"\n",
        "Address=\"Blk 15 Lot 6 Springtown Southgate 2 Bucal Tanza Cavite\"\n",
        "Course=\"BS CPE\"\n",
        "Last_Sem_GWA=\"93\"\n",
        "\n",
        "print(Name)\n",
        "print(Student_Number)\n",
        "print(Age)\n",
        "print(Birthday)\n",
        "print(Address)\n",
        "print(Course)\n",
        "print(Last_Sem_GWA)"
      ],
      "execution_count": 10,
      "outputs": [
        {
          "output_type": "stream",
          "name": "stdout",
          "text": [
            "Ma. Kaethe Joy A. Julian\n",
            "202101036\n",
            "18 years old\n",
            "December 04, 2002\n",
            "Blk 15 Lot 6 Springtown Southgate 2 Bucal Tanza Cavite\n",
            "BS CPE\n",
            "93\n"
          ]
        }
      ]
    },
    {
      "cell_type": "markdown",
      "metadata": {
        "id": "Dzr-Ug8ZlWbU"
      },
      "source": [
        "###PROBLEM STATEMENT 2"
      ]
    },
    {
      "cell_type": "code",
      "metadata": {
        "colab": {
          "base_uri": "https://localhost:8080/"
        },
        "id": "Z7gx0Z38snqT",
        "outputId": "a40d9e17-56d9-4c58-d05e-58ee7db4041c"
      },
      "source": [
        "n = 4\n",
        "answ = \"Y\"\n",
        "\n",
        "print((2<n) and (n<6))\n",
        "print((2<n) or (n==6))\n",
        "print(not(2<n) or (n==6))\n",
        "print(not(n<6))\n",
        "print((answ==\"Y\") or (answ==\"y\"))\n",
        "print((answ==\"Y\") and (answ==\"y\"))\n",
        "print(not(answ==\"y\"))\n",
        "print((2<n) and (n==5+1)) or (answ==\"No\")\n",
        "print((n==2) and (n==7)) or (answ==\"Y\")\n",
        "print(n==2) and ((n==7) or (answ==\"Y\"))"
      ],
      "execution_count": 77,
      "outputs": [
        {
          "output_type": "stream",
          "name": "stdout",
          "text": [
            "True\n",
            "True\n",
            "False\n",
            "False\n",
            "True\n",
            "False\n",
            "True\n",
            "False\n",
            "False\n",
            "False\n"
          ]
        }
      ]
    },
    {
      "cell_type": "markdown",
      "metadata": {
        "id": "5irLmFl6lgO1"
      },
      "source": [
        "###PROBLEM STATEMENT 3"
      ]
    },
    {
      "cell_type": "code",
      "metadata": {
        "colab": {
          "base_uri": "https://localhost:8080/"
        },
        "id": "vbb63VqoljaQ",
        "outputId": "cce92d31-3f05-4f92-e204-1df8222fcc51"
      },
      "source": [
        "x=2\n",
        "y=-3\n",
        "w=7\n",
        "z=-10\n",
        "\n",
        "print(x/y)\n",
        "print(w/y/x)\n",
        "print(z/y%x)\n",
        "print(x%-y*w)\n",
        "print(x%y)\n",
        "print(z%w-y/x*5+5)\n",
        "print(9-x%(2+y))\n",
        "print(z//w)\n",
        "print((2+y)**2)\n",
        "print(w/x*2)\n"
      ],
      "execution_count": 78,
      "outputs": [
        {
          "output_type": "stream",
          "name": "stdout",
          "text": [
            "-0.6666666666666666\n",
            "-1.1666666666666667\n",
            "1.3333333333333335\n",
            "14\n",
            "-1\n",
            "16.5\n",
            "9\n",
            "-2\n",
            "1\n",
            "7.0\n"
          ]
        }
      ]
    }
  ]
}